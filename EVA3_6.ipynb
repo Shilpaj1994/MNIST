{
  "cells": [
    {
      "cell_type": "markdown",
      "metadata": {},
      "source": [
        "## Import Libraries"
      ]
    },
    {
      "cell_type": "code",
      "execution_count": 1,
      "metadata": {
        "id": "0m2JWFliFfKT"
      },
      "outputs": [],
      "source": [
        "from __future__ import print_function\n",
        "import torch\n",
        "import torch.nn as nn\n",
        "import torch.nn.functional as F\n",
        "import torch.optim as optim\n",
        "from torchvision import datasets, transforms\n",
        "from torchsummary import summary\n",
        "from tqdm import tqdm"
      ]
    },
    {
      "cell_type": "markdown",
      "metadata": {},
      "source": [
        "## Import Model"
      ]
    },
    {
      "cell_type": "code",
      "execution_count": 2,
      "metadata": {
        "id": "h_Cx9q2QFgM7"
      },
      "outputs": [],
      "source": [
        "from model import Net"
      ]
    },
    {
      "cell_type": "markdown",
      "metadata": {},
      "source": [
        "## Print Model Summary"
      ]
    },
    {
      "cell_type": "code",
      "execution_count": 3,
      "metadata": {
        "id": "xdydjYTZFyi3"
      },
      "outputs": [
        {
          "name": "stdout",
          "output_type": "stream",
          "text": [
            "----------------------------------------------------------------\n",
            "        Layer (type)               Output Shape         Param #\n",
            "================================================================\n",
            "            Conv2d-1           [-1, 10, 26, 26]              90\n",
            "       BatchNorm2d-2           [-1, 10, 26, 26]              20\n",
            "           Dropout-3           [-1, 10, 26, 26]               0\n",
            "            Conv2d-4           [-1, 10, 24, 24]             900\n",
            "       BatchNorm2d-5           [-1, 10, 24, 24]              20\n",
            "           Dropout-6           [-1, 10, 24, 24]               0\n",
            "            Conv2d-7           [-1, 10, 22, 22]             900\n",
            "       BatchNorm2d-8           [-1, 10, 22, 22]              20\n",
            "           Dropout-9           [-1, 10, 22, 22]               0\n",
            "           Conv2d-10           [-1, 10, 20, 20]             900\n",
            "      BatchNorm2d-11           [-1, 10, 20, 20]              20\n",
            "           Conv2d-12           [-1, 10, 20, 20]             100\n",
            "      BatchNorm2d-13           [-1, 10, 20, 20]              20\n",
            "        MaxPool2d-14           [-1, 10, 10, 10]               0\n",
            "           Conv2d-15             [-1, 14, 8, 8]           1,260\n",
            "      BatchNorm2d-16             [-1, 14, 8, 8]              28\n",
            "          Dropout-17             [-1, 14, 8, 8]               0\n",
            "           Conv2d-18             [-1, 14, 6, 6]           1,764\n",
            "      BatchNorm2d-19             [-1, 14, 6, 6]              28\n",
            "          Dropout-20             [-1, 14, 6, 6]               0\n",
            "           Conv2d-21             [-1, 13, 4, 4]           1,638\n",
            "      BatchNorm2d-22             [-1, 13, 4, 4]              26\n",
            "AdaptiveAvgPool2d-23             [-1, 13, 1, 1]               0\n",
            "           Conv2d-24             [-1, 10, 1, 1]             130\n",
            "      BatchNorm2d-25             [-1, 10, 1, 1]              20\n",
            "================================================================\n",
            "Total params: 7,884\n",
            "Trainable params: 7,884\n",
            "Non-trainable params: 0\n",
            "----------------------------------------------------------------\n",
            "Input size (MB): 0.00\n",
            "Forward/backward pass size (MB): 0.56\n",
            "Params size (MB): 0.03\n",
            "Estimated Total Size (MB): 0.60\n",
            "----------------------------------------------------------------\n"
          ]
        }
      ],
      "source": [
        "use_cuda = torch.cuda.is_available()\n",
        "device = torch.device(\"cuda\" if use_cuda else \"cpu\")\n",
        "model = Net().to(device)\n",
        "summary(model, input_size=(1, 28, 28))"
      ]
    },
    {
      "cell_type": "markdown",
      "metadata": {},
      "source": [
        "## Transformations for Training and Testing Datasets"
      ]
    },
    {
      "cell_type": "code",
      "execution_count": 4,
      "metadata": {},
      "outputs": [],
      "source": [
        "# Train Dataset transformations\n",
        "train_transforms = transforms.Compose([\n",
        "    transforms.ToTensor(),\n",
        "    transforms.RandomResizedCrop((28, 28), (0.85, 1.0)),\n",
        "    transforms.RandomRotation((-7., 7.), fill=0),\n",
        "    transforms.Normalize((0.1307,), (0.3081,)),\n",
        "    ])\n",
        "\n",
        "# Test Dataset transformations\n",
        "test_transforms = transforms.Compose([\n",
        "    transforms.ToTensor(),\n",
        "    transforms.Resize((28, 28)),\n",
        "    transforms.Normalize((0.1325,), (0.3104,))\n",
        "    ])"
      ]
    },
    {
      "cell_type": "markdown",
      "metadata": {},
      "source": [
        "## Training and Testing Datasets"
      ]
    },
    {
      "cell_type": "code",
      "execution_count": 5,
      "metadata": {},
      "outputs": [],
      "source": [
        "train = datasets.MNIST('./data', train=True, download=True, transform=train_transforms)\n",
        "test = datasets.MNIST('./data', train=False, download=True, transform=test_transforms)"
      ]
    },
    {
      "cell_type": "markdown",
      "metadata": {},
      "source": [
        "## Training and Testing Dataloaders"
      ]
    },
    {
      "cell_type": "code",
      "execution_count": 6,
      "metadata": {},
      "outputs": [
        {
          "name": "stdout",
          "output_type": "stream",
          "text": [
            "CUDA Available? False\n"
          ]
        }
      ],
      "source": [
        "SEED = 8\n",
        "\n",
        "cuda = torch.cuda.is_available()\n",
        "print(\"CUDA Available?\", cuda)\n",
        "\n",
        "# For reproducibility\n",
        "torch.manual_seed(SEED)\n",
        "if cuda:\n",
        "    torch.cuda.manual_seed(SEED)\n",
        "\n",
        "# Dataloader arguments\n",
        "dataloader_args = dict(shuffle=True, batch_size=128, num_workers=4, pin_memory=True) if cuda else dict(shuffle=True, batch_size=128)\n",
        "\n",
        "# Train & Test Dataloaders\n",
        "train_loader = torch.utils.data.DataLoader(train, **dataloader_args)\n",
        "test_loader = torch.utils.data.DataLoader(test, **dataloader_args)"
      ]
    },
    {
      "cell_type": "markdown",
      "metadata": {},
      "source": [
        "## Training and Testing Loops"
      ]
    },
    {
      "cell_type": "code",
      "execution_count": 7,
      "metadata": {
        "id": "8fDefDhaFlwH"
      },
      "outputs": [],
      "source": [
        "\n",
        "def train(model, device, train_loader, optimizer, epoch):\n",
        "    \"\"\"\n",
        "    Training Loop\n",
        "    :param model: Model\n",
        "    :param device: Device\n",
        "    :param train_loader: Training Dataloader\n",
        "    :param optimizer: Optimizer\n",
        "    :param epoch: Epoch\n",
        "    \"\"\"\n",
        "    model.train()\n",
        "    pbar = tqdm(train_loader)\n",
        "    for batch_idx, (data, target) in enumerate(pbar):\n",
        "        data, target = data.to(device), target.to(device)\n",
        "        optimizer.zero_grad()\n",
        "        output = model(data)\n",
        "        loss = F.nll_loss(output, target)\n",
        "        loss.backward()\n",
        "        optimizer.step()\n",
        "        pbar.set_description(desc= f'    Loss={loss.item()} batch_id={batch_idx}')\n",
        "\n",
        "\n",
        "def test(model, device, test_loader):\n",
        "    \"\"\"\n",
        "    Testing Loop\n",
        "    :param model: Model\n",
        "    :param device: Device\n",
        "    :param test_loader: Testing Dataloader\n",
        "    \"\"\"\n",
        "    model.eval()\n",
        "    test_loss = 0\n",
        "    correct = 0\n",
        "    with torch.no_grad():\n",
        "        for data, target in test_loader:\n",
        "            data, target = data.to(device), target.to(device)\n",
        "            output = model(data)\n",
        "            test_loss += F.nll_loss(output, target, reduction='sum').item()  # sum up batch loss\n",
        "            pred = output.argmax(dim=1, keepdim=True)  # get the index of the max log-probability\n",
        "            correct += pred.eq(target.view_as(pred)).sum().item()\n",
        "\n",
        "    test_loss /= len(test_loader.dataset)\n",
        "\n",
        "    print('    Test set: Average loss: {:.4f}, Accuracy: {}/{} ({:.2f}%)\\n'.format(\n",
        "        test_loss, correct, len(test_loader.dataset),\n",
        "        100. * correct / len(test_loader.dataset)))"
      ]
    },
    {
      "cell_type": "markdown",
      "metadata": {},
      "source": [
        "## Model Training and Testing"
      ]
    },
    {
      "cell_type": "code",
      "execution_count": 8,
      "metadata": {
        "id": "MMWbLWO6FuHb"
      },
      "outputs": [
        {
          "name": "stdout",
          "output_type": "stream",
          "text": [
            "Epoch 1:\n"
          ]
        },
        {
          "name": "stderr",
          "output_type": "stream",
          "text": [
            "    Loss=0.2085336595773697 batch_id=468: 100%|██████████| 469/469 [01:03<00:00,  7.43it/s] \n"
          ]
        },
        {
          "name": "stdout",
          "output_type": "stream",
          "text": [
            "    Test set: Average loss: 0.0904, Accuracy: 9825/10000 (98.25%)\n",
            "\n",
            "Epoch 2:\n"
          ]
        },
        {
          "name": "stderr",
          "output_type": "stream",
          "text": [
            "    Loss=0.12635397911071777 batch_id=468: 100%|██████████| 469/469 [00:59<00:00,  7.84it/s] \n"
          ]
        },
        {
          "name": "stdout",
          "output_type": "stream",
          "text": [
            "    Test set: Average loss: 0.0552, Accuracy: 9873/10000 (98.73%)\n",
            "\n",
            "Epoch 3:\n"
          ]
        },
        {
          "name": "stderr",
          "output_type": "stream",
          "text": [
            "    Loss=0.08278200030326843 batch_id=468: 100%|██████████| 469/469 [01:03<00:00,  7.37it/s] \n"
          ]
        },
        {
          "name": "stdout",
          "output_type": "stream",
          "text": [
            "    Test set: Average loss: 0.0436, Accuracy: 9882/10000 (98.82%)\n",
            "\n",
            "Epoch 4:\n"
          ]
        },
        {
          "name": "stderr",
          "output_type": "stream",
          "text": [
            "    Loss=0.06628762185573578 batch_id=468: 100%|██████████| 469/469 [00:59<00:00,  7.85it/s] \n"
          ]
        },
        {
          "name": "stdout",
          "output_type": "stream",
          "text": [
            "    Test set: Average loss: 0.0358, Accuracy: 9913/10000 (99.13%)\n",
            "\n",
            "Epoch 5:\n"
          ]
        },
        {
          "name": "stderr",
          "output_type": "stream",
          "text": [
            "    Loss=0.04646427556872368 batch_id=468: 100%|██████████| 469/469 [01:00<00:00,  7.71it/s] \n"
          ]
        },
        {
          "name": "stdout",
          "output_type": "stream",
          "text": [
            "    Test set: Average loss: 0.0403, Accuracy: 9891/10000 (98.91%)\n",
            "\n",
            "Epoch 6:\n"
          ]
        },
        {
          "name": "stderr",
          "output_type": "stream",
          "text": [
            "    Loss=0.0820210725069046 batch_id=468: 100%|██████████| 469/469 [01:01<00:00,  7.64it/s]  \n"
          ]
        },
        {
          "name": "stdout",
          "output_type": "stream",
          "text": [
            "    Test set: Average loss: 0.0318, Accuracy: 9910/10000 (99.10%)\n",
            "\n",
            "Epoch 7:\n"
          ]
        },
        {
          "name": "stderr",
          "output_type": "stream",
          "text": [
            "    Loss=0.0731586217880249 batch_id=468: 100%|██████████| 469/469 [01:07<00:00,  6.98it/s]  \n"
          ]
        },
        {
          "name": "stdout",
          "output_type": "stream",
          "text": [
            "    Test set: Average loss: 0.0336, Accuracy: 9907/10000 (99.07%)\n",
            "\n",
            "Epoch 8:\n"
          ]
        },
        {
          "name": "stderr",
          "output_type": "stream",
          "text": [
            "    Loss=0.10490330308675766 batch_id=468: 100%|██████████| 469/469 [01:05<00:00,  7.12it/s] \n"
          ]
        },
        {
          "name": "stdout",
          "output_type": "stream",
          "text": [
            "    Test set: Average loss: 0.0271, Accuracy: 9930/10000 (99.30%)\n",
            "\n",
            "Epoch 9:\n"
          ]
        },
        {
          "name": "stderr",
          "output_type": "stream",
          "text": [
            "    Loss=0.05066375061869621 batch_id=468: 100%|██████████| 469/469 [01:05<00:00,  7.18it/s] \n"
          ]
        },
        {
          "name": "stdout",
          "output_type": "stream",
          "text": [
            "    Test set: Average loss: 0.0316, Accuracy: 9911/10000 (99.11%)\n",
            "\n",
            "Epoch 10:\n"
          ]
        },
        {
          "name": "stderr",
          "output_type": "stream",
          "text": [
            "    Loss=0.05262778699398041 batch_id=468: 100%|██████████| 469/469 [01:07<00:00,  6.94it/s] \n"
          ]
        },
        {
          "name": "stdout",
          "output_type": "stream",
          "text": [
            "    Test set: Average loss: 0.0260, Accuracy: 9930/10000 (99.30%)\n",
            "\n",
            "Epoch 11:\n"
          ]
        },
        {
          "name": "stderr",
          "output_type": "stream",
          "text": [
            "    Loss=0.011290161870419979 batch_id=468: 100%|██████████| 469/469 [01:06<00:00,  7.10it/s]\n"
          ]
        },
        {
          "name": "stdout",
          "output_type": "stream",
          "text": [
            "    Test set: Average loss: 0.0242, Accuracy: 9936/10000 (99.36%)\n",
            "\n",
            "Epoch 12:\n"
          ]
        },
        {
          "name": "stderr",
          "output_type": "stream",
          "text": [
            "    Loss=0.11191428452730179 batch_id=468: 100%|██████████| 469/469 [01:06<00:00,  7.02it/s] \n"
          ]
        },
        {
          "name": "stdout",
          "output_type": "stream",
          "text": [
            "    Test set: Average loss: 0.0286, Accuracy: 9922/10000 (99.22%)\n",
            "\n",
            "Epoch 13:\n"
          ]
        },
        {
          "name": "stderr",
          "output_type": "stream",
          "text": [
            "    Loss=0.07382076978683472 batch_id=468: 100%|██████████| 469/469 [01:06<00:00,  7.04it/s] \n"
          ]
        },
        {
          "name": "stdout",
          "output_type": "stream",
          "text": [
            "    Test set: Average loss: 0.0256, Accuracy: 9929/10000 (99.29%)\n",
            "\n",
            "Epoch 14:\n"
          ]
        },
        {
          "name": "stderr",
          "output_type": "stream",
          "text": [
            "    Loss=0.03881983086466789 batch_id=468: 100%|██████████| 469/469 [01:05<00:00,  7.14it/s] \n"
          ]
        },
        {
          "name": "stdout",
          "output_type": "stream",
          "text": [
            "    Test set: Average loss: 0.0242, Accuracy: 9926/10000 (99.26%)\n",
            "\n",
            "Epoch 15:\n"
          ]
        },
        {
          "name": "stderr",
          "output_type": "stream",
          "text": [
            "    Loss=0.013535715639591217 batch_id=468: 100%|██████████| 469/469 [01:07<00:00,  6.92it/s]\n"
          ]
        },
        {
          "name": "stdout",
          "output_type": "stream",
          "text": [
            "    Test set: Average loss: 0.0264, Accuracy: 9927/10000 (99.27%)\n",
            "\n",
            "Epoch 16:\n"
          ]
        },
        {
          "name": "stderr",
          "output_type": "stream",
          "text": [
            "    Loss=0.03432683274149895 batch_id=468: 100%|██████████| 469/469 [01:02<00:00,  7.48it/s] \n"
          ]
        },
        {
          "name": "stdout",
          "output_type": "stream",
          "text": [
            "    Test set: Average loss: 0.0251, Accuracy: 9924/10000 (99.24%)\n",
            "\n",
            "Epoch 17:\n"
          ]
        },
        {
          "name": "stderr",
          "output_type": "stream",
          "text": [
            "    Loss=0.032912593334913254 batch_id=468: 100%|██████████| 469/469 [01:04<00:00,  7.26it/s]\n"
          ]
        },
        {
          "name": "stdout",
          "output_type": "stream",
          "text": [
            "    Test set: Average loss: 0.0226, Accuracy: 9939/10000 (99.39%)\n",
            "\n",
            "Epoch 18:\n"
          ]
        },
        {
          "name": "stderr",
          "output_type": "stream",
          "text": [
            "    Loss=0.05373332276940346 batch_id=468: 100%|██████████| 469/469 [01:07<00:00,  6.93it/s] \n"
          ]
        },
        {
          "name": "stdout",
          "output_type": "stream",
          "text": [
            "    Test set: Average loss: 0.0256, Accuracy: 9916/10000 (99.16%)\n",
            "\n",
            "Epoch 19:\n"
          ]
        },
        {
          "name": "stderr",
          "output_type": "stream",
          "text": [
            "    Loss=0.06821335107088089 batch_id=468: 100%|██████████| 469/469 [01:07<00:00,  6.98it/s] \n"
          ]
        },
        {
          "name": "stdout",
          "output_type": "stream",
          "text": [
            "    Test set: Average loss: 0.0208, Accuracy: 9940/10000 (99.40%)\n",
            "\n",
            "Epoch 20:\n"
          ]
        },
        {
          "name": "stderr",
          "output_type": "stream",
          "text": [
            "    Loss=0.06556873023509979 batch_id=468: 100%|██████████| 469/469 [01:06<00:00,  7.03it/s] \n"
          ]
        },
        {
          "name": "stdout",
          "output_type": "stream",
          "text": [
            "    Test set: Average loss: 0.0239, Accuracy: 9938/10000 (99.38%)\n",
            "\n"
          ]
        }
      ],
      "source": [
        "model = Net().to(device)\n",
        "optimizer = optim.SGD(model.parameters(), lr=0.01, momentum=0.9)\n",
        "\n",
        "for epoch in range(1, 21):\n",
        "    print(f\"Epoch {epoch}:\")\n",
        "    train(model, device, train_loader, optimizer, epoch)\n",
        "    test(model, device, test_loader)"
      ]
    },
    {
      "cell_type": "markdown",
      "metadata": {},
      "source": [
        "Target achieved in the 19th epoch"
      ]
    }
  ],
  "metadata": {
    "accelerator": "GPU",
    "colab": {
      "provenance": []
    },
    "kernelspec": {
      "display_name": "Python 3",
      "name": "python3"
    },
    "language_info": {
      "codemirror_mode": {
        "name": "ipython",
        "version": 3
      },
      "file_extension": ".py",
      "mimetype": "text/x-python",
      "name": "python",
      "nbconvert_exporter": "python",
      "pygments_lexer": "ipython3",
      "version": "3.8.10"
    }
  },
  "nbformat": 4,
  "nbformat_minor": 0
}
